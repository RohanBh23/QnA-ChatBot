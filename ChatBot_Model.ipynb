{
  "cells": [
    {
      "cell_type": "markdown",
      "metadata": {
        "id": "GiZ55hGufEqV"
      },
      "source": [
        "## Loading the Data\n",
        "Unpickling the bAbI Data Set from Meta Research\n"
      ]
    },
    {
      "cell_type": "code",
      "execution_count": null,
      "metadata": {
        "collapsed": true,
        "id": "U2wPL7TBfEqW"
      },
      "outputs": [],
      "source": [
        "import pickle\n",
        "import numpy as np"
      ]
    },
    {
      "cell_type": "code",
      "execution_count": null,
      "metadata": {
        "collapsed": true,
        "id": "Pwq_vR8ffEqY"
      },
      "outputs": [],
      "source": [
        "with open(\"train_qa.txt\", \"rb\") as fp:   # Unpickling\n",
        "    train_data =  pickle.load(fp)"
      ]
    },
    {
      "cell_type": "code",
      "execution_count": null,
      "metadata": {
        "collapsed": true,
        "id": "atWeJKv8fEqY"
      },
      "outputs": [],
      "source": [
        "with open(\"test_qa.txt\", \"rb\") as fp:   # Unpickling\n",
        "    test_data =  pickle.load(fp)"
      ]
    },
    {
      "cell_type": "markdown",
      "metadata": {
        "id": "Z6ER6VuIfEqa"
      },
      "source": [
        "## Exploring the Format of the Data\n",
        "\n",
        "The data is in the form - \n",
        "\n",
        "\n",
        "*   Story -> A sequence of simple descriptive sentences.\n",
        "*   Question -> A single question related to the above story.\n",
        "*   Answer -> 'Yes' or 'No'"
      ]
    },
    {
      "cell_type": "code",
      "execution_count": null,
      "metadata": {
        "colab": {
          "base_uri": "https://localhost:8080/"
        },
        "id": "FNE8HWPIfEqb",
        "outputId": "4534b4f9-e148-4ed7-c6fa-98b7384b164c"
      },
      "outputs": [
        {
          "output_type": "stream",
          "name": "stdout",
          "text": [
            "Train data type and size :  <class 'list'> 10000\n",
            "Test data type and size :  <class 'list'> 1000\n"
          ]
        }
      ],
      "source": [
        "print('Train data type and size : ', type(train_data),len(train_data))\n",
        "print('Test data type and size : ', type(test_data),len(test_data))"
      ]
    },
    {
      "cell_type": "code",
      "execution_count": null,
      "metadata": {
        "colab": {
          "base_uri": "https://localhost:8080/",
          "height": 70
        },
        "id": "mvEZRgeEfEqe",
        "outputId": "cd561f39-5cda-4662-e705-3490615ecd71"
      },
      "outputs": [
        {
          "output_type": "execute_result",
          "data": {
            "application/vnd.google.colaboratory.intrinsic+json": {
              "type": "string"
            },
            "text/plain": [
              "'Sandra got the football there . Mary went to the bedroom . Daniel got the apple there . Sandra travelled to the hallway . Sandra moved to the garden . Mary travelled to the kitchen . Sandra went back to the bedroom . Daniel put down the apple . Sandra put down the football . Sandra journeyed to the office .'"
            ]
          },
          "metadata": {},
          "execution_count": 7
        }
      ],
      "source": [
        "' '.join(train_data[9][0])"
      ]
    },
    {
      "cell_type": "code",
      "execution_count": null,
      "metadata": {
        "colab": {
          "base_uri": "https://localhost:8080/",
          "height": 35
        },
        "id": "e8N4vlfBfEqf",
        "outputId": "d77836d9-f63b-45dc-9609-ed92ef97e5f3"
      },
      "outputs": [
        {
          "output_type": "execute_result",
          "data": {
            "application/vnd.google.colaboratory.intrinsic+json": {
              "type": "string"
            },
            "text/plain": [
              "'Is Mary in the kitchen ?'"
            ]
          },
          "metadata": {},
          "execution_count": 8
        }
      ],
      "source": [
        "' '.join(train_data[9][1])"
      ]
    },
    {
      "cell_type": "code",
      "execution_count": null,
      "metadata": {
        "colab": {
          "base_uri": "https://localhost:8080/",
          "height": 35
        },
        "id": "9CfVZvyifEqf",
        "outputId": "d45e67d5-c281-4c80-e703-a12469d3ce34"
      },
      "outputs": [
        {
          "output_type": "execute_result",
          "data": {
            "application/vnd.google.colaboratory.intrinsic+json": {
              "type": "string"
            },
            "text/plain": [
              "'yes'"
            ]
          },
          "metadata": {},
          "execution_count": 9
        }
      ],
      "source": [
        "train_data[9][2]"
      ]
    },
    {
      "cell_type": "markdown",
      "metadata": {
        "id": "JZ9yLiqWfEqf"
      },
      "source": [
        "## Setting up Vocabulary of All Words"
      ]
    },
    {
      "cell_type": "code",
      "execution_count": null,
      "metadata": {
        "collapsed": true,
        "id": "xtaECmgufEqg"
      },
      "outputs": [],
      "source": [
        "vocab = set()"
      ]
    },
    {
      "cell_type": "code",
      "execution_count": null,
      "metadata": {
        "collapsed": true,
        "id": "VYrXOU5dfEqg"
      },
      "outputs": [],
      "source": [
        "all_data = test_data + train_data"
      ]
    },
    {
      "cell_type": "code",
      "execution_count": null,
      "metadata": {
        "collapsed": true,
        "id": "YT4764TwfEqg"
      },
      "outputs": [],
      "source": [
        "for story, question , answer in all_data:\n",
        "    vocab = vocab.union(set(story))\n",
        "    vocab = vocab.union(set(question))"
      ]
    },
    {
      "cell_type": "code",
      "execution_count": null,
      "metadata": {
        "collapsed": true,
        "id": "vv-k44fRfEqh"
      },
      "outputs": [],
      "source": [
        "vocab.add('no')\n",
        "vocab.add('yes')"
      ]
    },
    {
      "cell_type": "code",
      "execution_count": null,
      "metadata": {
        "colab": {
          "base_uri": "https://localhost:8080/"
        },
        "id": "OdSWU1g-fEqh",
        "outputId": "187f9c94-cdb5-468e-efa9-82975ccd4f5d"
      },
      "outputs": [
        {
          "output_type": "execute_result",
          "data": {
            "text/plain": [
              "{'.',\n",
              " '?',\n",
              " 'Daniel',\n",
              " 'Is',\n",
              " 'John',\n",
              " 'Mary',\n",
              " 'Sandra',\n",
              " 'apple',\n",
              " 'back',\n",
              " 'bathroom',\n",
              " 'bedroom',\n",
              " 'discarded',\n",
              " 'down',\n",
              " 'dropped',\n",
              " 'football',\n",
              " 'garden',\n",
              " 'got',\n",
              " 'grabbed',\n",
              " 'hallway',\n",
              " 'in',\n",
              " 'journeyed',\n",
              " 'kitchen',\n",
              " 'left',\n",
              " 'milk',\n",
              " 'moved',\n",
              " 'no',\n",
              " 'office',\n",
              " 'picked',\n",
              " 'put',\n",
              " 'the',\n",
              " 'there',\n",
              " 'to',\n",
              " 'took',\n",
              " 'travelled',\n",
              " 'up',\n",
              " 'went',\n",
              " 'yes'}"
            ]
          },
          "metadata": {},
          "execution_count": 14
        }
      ],
      "source": [
        "vocab"
      ]
    },
    {
      "cell_type": "code",
      "source": [
        "textfile = open(\"vocab.txt\", \"w\")\n",
        "for element in vocab:\n",
        "    textfile.write(element + \"\\n\")\n",
        "textfile.close()"
      ],
      "metadata": {
        "id": "aoz8ufhZyH4G"
      },
      "execution_count": null,
      "outputs": []
    },
    {
      "cell_type": "code",
      "execution_count": null,
      "metadata": {
        "collapsed": true,
        "id": "1HRrPraFfEqi"
      },
      "outputs": [],
      "source": [
        "vocab_len = len(vocab) + 1 #we add an extra space to hold a 0 for Keras's pad_sequences"
      ]
    },
    {
      "cell_type": "code",
      "execution_count": null,
      "metadata": {
        "collapsed": true,
        "id": "ng2eufObfEqi"
      },
      "outputs": [],
      "source": [
        "max_story_len = max([len(data[0]) for data in all_data])"
      ]
    },
    {
      "cell_type": "code",
      "execution_count": null,
      "metadata": {
        "colab": {
          "base_uri": "https://localhost:8080/"
        },
        "id": "9SS4Gna3fEqi",
        "outputId": "2728ddd0-9333-460d-f193-f044de1066a9"
      },
      "outputs": [
        {
          "output_type": "execute_result",
          "data": {
            "text/plain": [
              "156"
            ]
          },
          "metadata": {},
          "execution_count": 18
        }
      ],
      "source": [
        "max_story_len"
      ]
    },
    {
      "cell_type": "code",
      "execution_count": null,
      "metadata": {
        "collapsed": true,
        "id": "cp9Nw_OxfEqj"
      },
      "outputs": [],
      "source": [
        "max_question_len = max([len(data[1]) for data in all_data])"
      ]
    },
    {
      "cell_type": "code",
      "execution_count": null,
      "metadata": {
        "colab": {
          "base_uri": "https://localhost:8080/"
        },
        "id": "hWicD-eYfEqj",
        "outputId": "6ef1fbfa-f6c3-4d33-ca6b-6653877dca65"
      },
      "outputs": [
        {
          "output_type": "execute_result",
          "data": {
            "text/plain": [
              "6"
            ]
          },
          "metadata": {},
          "execution_count": 20
        }
      ],
      "source": [
        "max_question_len"
      ]
    },
    {
      "cell_type": "markdown",
      "metadata": {
        "id": "83ne41o_fEqj"
      },
      "source": [
        "## Vectorizing the Data\n",
        "\n",
        "\n",
        "*   Padding\n",
        "*   Tokenization\n",
        "\n"
      ]
    },
    {
      "cell_type": "code",
      "execution_count": null,
      "metadata": {
        "collapsed": true,
        "id": "qN9deNFZfEqk"
      },
      "outputs": [],
      "source": [
        "# Reserve 0 for pad_sequences\n",
        "vocab_size = len(vocab) + 1"
      ]
    },
    {
      "cell_type": "code",
      "execution_count": null,
      "metadata": {
        "id": "_dAJYd7ZfEqk"
      },
      "outputs": [],
      "source": [
        "from keras.preprocessing.sequence import pad_sequences\n",
        "from keras.preprocessing.text import Tokenizer"
      ]
    },
    {
      "cell_type": "code",
      "execution_count": null,
      "metadata": {
        "collapsed": true,
        "id": "b3tmXSk6fEqk"
      },
      "outputs": [],
      "source": [
        "# integer encode sequences of words\n",
        "tokenizer = Tokenizer(filters=[])\n",
        "tokenizer.fit_on_texts(vocab)"
      ]
    },
    {
      "cell_type": "code",
      "execution_count": null,
      "metadata": {
        "colab": {
          "base_uri": "https://localhost:8080/"
        },
        "id": "Wt18xhbxfEql",
        "outputId": "d8c6b517-c63a-4b7f-dad5-2388b3e42014"
      },
      "outputs": [
        {
          "output_type": "execute_result",
          "data": {
            "text/plain": [
              "{'.': 11,\n",
              " '?': 15,\n",
              " 'apple': 19,\n",
              " 'back': 37,\n",
              " 'bathroom': 3,\n",
              " 'bedroom': 22,\n",
              " 'daniel': 13,\n",
              " 'discarded': 25,\n",
              " 'down': 12,\n",
              " 'dropped': 9,\n",
              " 'football': 21,\n",
              " 'garden': 31,\n",
              " 'got': 34,\n",
              " 'grabbed': 4,\n",
              " 'hallway': 5,\n",
              " 'in': 14,\n",
              " 'is': 35,\n",
              " 'john': 33,\n",
              " 'journeyed': 32,\n",
              " 'kitchen': 30,\n",
              " 'left': 10,\n",
              " 'mary': 29,\n",
              " 'milk': 23,\n",
              " 'moved': 6,\n",
              " 'no': 27,\n",
              " 'office': 2,\n",
              " 'picked': 1,\n",
              " 'put': 8,\n",
              " 'sandra': 16,\n",
              " 'the': 26,\n",
              " 'there': 17,\n",
              " 'to': 36,\n",
              " 'took': 18,\n",
              " 'travelled': 24,\n",
              " 'up': 7,\n",
              " 'went': 28,\n",
              " 'yes': 20}"
            ]
          },
          "metadata": {},
          "execution_count": 24
        }
      ],
      "source": [
        "tokenizer.word_index"
      ]
    },
    {
      "cell_type": "code",
      "execution_count": null,
      "metadata": {
        "collapsed": true,
        "id": "tLOjhJ0rfEql"
      },
      "outputs": [],
      "source": [
        "train_story_text = []\n",
        "train_question_text = []\n",
        "train_answers = []\n",
        "\n",
        "for story,question,answer in train_data:\n",
        "    train_story_text.append(story)\n",
        "    train_question_text.append(question)"
      ]
    },
    {
      "cell_type": "code",
      "execution_count": null,
      "metadata": {
        "collapsed": true,
        "id": "5ATyz8OsfEql"
      },
      "outputs": [],
      "source": [
        "train_story_seq = tokenizer.texts_to_sequences(train_story_text)"
      ]
    },
    {
      "cell_type": "code",
      "execution_count": null,
      "metadata": {
        "colab": {
          "base_uri": "https://localhost:8080/"
        },
        "id": "kzp-9uTgfEql",
        "outputId": "8b8fe7b4-1dfa-4831-f46b-07b0b30bde01"
      },
      "outputs": [
        {
          "output_type": "execute_result",
          "data": {
            "text/plain": [
              "10000"
            ]
          },
          "metadata": {},
          "execution_count": 27
        }
      ],
      "source": [
        "len(train_story_text)"
      ]
    },
    {
      "cell_type": "code",
      "execution_count": null,
      "metadata": {
        "colab": {
          "base_uri": "https://localhost:8080/"
        },
        "id": "-BfzeYqNfEqm",
        "outputId": "6598c708-25d8-44c1-82b5-1c1d0cbba272"
      },
      "outputs": [
        {
          "output_type": "execute_result",
          "data": {
            "text/plain": [
              "10000"
            ]
          },
          "metadata": {},
          "execution_count": 28
        }
      ],
      "source": [
        "len(train_story_seq)"
      ]
    },
    {
      "cell_type": "code",
      "execution_count": null,
      "metadata": {
        "collapsed": true,
        "id": "jcRY0iUofEqm"
      },
      "outputs": [],
      "source": [
        "word_index = tokenizer.word_index"
      ]
    },
    {
      "cell_type": "markdown",
      "metadata": {
        "id": "5S-Q25UtfEqm"
      },
      "source": [
        "### Complete Function for Vectorization\n",
        "\n",
        "We first loop for every story, query , and answer in the data. Then we convert the raw words to an word index value. Then we append each set to their appropriate output list. Then once we have converted the words to numbers, we pad the sequences so they are all of equal length.\n",
        "    \n",
        "\n",
        "Input : \n",
        "\n",
        "*   data: consisting of Stories,Questions,and Answers\n",
        "*   word_index: word index dictionary from tokenizer\n",
        "*   max_story_len: the length of the longest story (used for pad_sequences function)\n",
        "*   max_question_len: length of the longest question (used for pad_sequences function)\n",
        "\n",
        "\n",
        "Output:\n",
        "    \n",
        "stories,questions, and answers vectorized into padded sequences."
      ]
    },
    {
      "cell_type": "code",
      "execution_count": null,
      "metadata": {
        "collapsed": true,
        "id": "eCv4vRFVfEqm"
      },
      "outputs": [],
      "source": [
        "def vectorize_stories(data, word_index=tokenizer.word_index, max_story_len=max_story_len,max_question_len=max_question_len):\n",
        "\n",
        "    X = [] # STORIES\n",
        "    Xq = [] # QUESTION\n",
        "    Y = []  # ANSWER\n",
        "    \n",
        "    \n",
        "    for story, query, answer in data:\n",
        "        \n",
        "        # Grab the word index for every word in story\n",
        "        x = [word_index[word.lower()] for word in story]\n",
        "        # Grab the word index for every word in query\n",
        "        xq = [word_index[word.lower()] for word in query]\n",
        "        \n",
        "        # Grab the Answers (either Yes/No so we don't need to use list comprehension here)\n",
        "        # Index 0 is reserved so we're going to use + 1\n",
        "        y = np.zeros(len(word_index) + 1)\n",
        "        \n",
        "        # Now that y is all zeros and we know its just Yes/No , we can use numpy logic to create this assignment\n",
        "        #\n",
        "        y[word_index[answer]] = 1\n",
        "        \n",
        "        # Append each set of story,query, and answer to their respective holding lists\n",
        "        X.append(x)\n",
        "        Xq.append(xq)\n",
        "        Y.append(y)\n",
        "        \n",
        "    # Finally, pad the sequences based on their max length so the RNN can be trained on uniformly long sequences.\n",
        "        \n",
        "    # RETURN TUPLE FOR UNPACKING\n",
        "    return (pad_sequences(X, maxlen=max_story_len),pad_sequences(Xq, maxlen=max_question_len), np.array(Y))"
      ]
    },
    {
      "cell_type": "code",
      "execution_count": null,
      "metadata": {
        "collapsed": true,
        "id": "NG4wVnJAfEqn"
      },
      "outputs": [],
      "source": [
        "inputs_train, queries_train, answers_train = vectorize_stories(train_data)"
      ]
    },
    {
      "cell_type": "code",
      "execution_count": null,
      "metadata": {
        "collapsed": true,
        "id": "PWZRWZH0fEqn"
      },
      "outputs": [],
      "source": [
        "inputs_test, queries_test, answers_test = vectorize_stories(test_data)"
      ]
    },
    {
      "cell_type": "code",
      "execution_count": null,
      "metadata": {
        "colab": {
          "base_uri": "https://localhost:8080/"
        },
        "id": "zD446tJgfEqn",
        "outputId": "5d22189b-6428-4640-f444-d62644d28a99"
      },
      "outputs": [
        {
          "output_type": "execute_result",
          "data": {
            "text/plain": [
              "array([[ 0,  0,  0, ..., 26, 22, 11],\n",
              "       [ 0,  0,  0, ..., 26, 31, 11],\n",
              "       [ 0,  0,  0, ..., 26, 31, 11],\n",
              "       ...,\n",
              "       [ 0,  0,  0, ..., 26, 19, 11],\n",
              "       [ 0,  0,  0, ..., 26, 31, 11],\n",
              "       [ 0,  0,  0, ..., 19, 17, 11]], dtype=int32)"
            ]
          },
          "metadata": {},
          "execution_count": 33
        }
      ],
      "source": [
        "inputs_test"
      ]
    },
    {
      "cell_type": "code",
      "execution_count": null,
      "metadata": {
        "colab": {
          "base_uri": "https://localhost:8080/"
        },
        "id": "m8RGG_HDfEqn",
        "outputId": "16df6ffe-9155-4ba5-f765-bc564764033c"
      },
      "outputs": [
        {
          "output_type": "execute_result",
          "data": {
            "text/plain": [
              "array([[35, 33, 14, 26, 30, 15],\n",
              "       [35, 33, 14, 26, 30, 15],\n",
              "       [35, 33, 14, 26, 31, 15],\n",
              "       ...,\n",
              "       [35, 29, 14, 26, 22, 15],\n",
              "       [35, 16, 14, 26, 31, 15],\n",
              "       [35, 29, 14, 26, 31, 15]], dtype=int32)"
            ]
          },
          "metadata": {},
          "execution_count": 34
        }
      ],
      "source": [
        "queries_test"
      ]
    },
    {
      "cell_type": "code",
      "execution_count": null,
      "metadata": {
        "colab": {
          "base_uri": "https://localhost:8080/"
        },
        "id": "XhEgnC_bfEqo",
        "outputId": "66fb3d32-5bc1-43c0-ed1d-c779bd47cdd4"
      },
      "outputs": [
        {
          "output_type": "execute_result",
          "data": {
            "text/plain": [
              "array([[0., 0., 0., ..., 0., 0., 0.],\n",
              "       [0., 0., 0., ..., 0., 0., 0.],\n",
              "       [0., 0., 0., ..., 0., 0., 0.],\n",
              "       ...,\n",
              "       [0., 0., 0., ..., 0., 0., 0.],\n",
              "       [0., 0., 0., ..., 0., 0., 0.],\n",
              "       [0., 0., 0., ..., 0., 0., 0.]])"
            ]
          },
          "metadata": {},
          "execution_count": 35
        }
      ],
      "source": [
        "answers_test"
      ]
    },
    {
      "cell_type": "code",
      "execution_count": null,
      "metadata": {
        "colab": {
          "base_uri": "https://localhost:8080/"
        },
        "id": "n0ArMCmQfEqo",
        "outputId": "c642b4c4-de1c-4b96-98e1-79aa16573051"
      },
      "outputs": [
        {
          "output_type": "execute_result",
          "data": {
            "text/plain": [
              "array([  0.,   0.,   0.,   0.,   0.,   0.,   0.,   0.,   0.,   0.,   0.,\n",
              "         0.,   0.,   0.,   0.,   0.,   0.,   0.,   0.,   0., 497.,   0.,\n",
              "         0.,   0.,   0.,   0.,   0., 503.,   0.,   0.,   0.,   0.,   0.,\n",
              "         0.,   0.,   0.,   0.,   0.])"
            ]
          },
          "metadata": {},
          "execution_count": 36
        }
      ],
      "source": [
        "sum(answers_test)"
      ]
    },
    {
      "cell_type": "code",
      "execution_count": null,
      "metadata": {
        "colab": {
          "base_uri": "https://localhost:8080/"
        },
        "id": "ljmVSoAdfEqo",
        "outputId": "90813ae6-b7be-4457-a30d-966ca4bf62c5"
      },
      "outputs": [
        {
          "output_type": "execute_result",
          "data": {
            "text/plain": [
              "20"
            ]
          },
          "metadata": {},
          "execution_count": 37
        }
      ],
      "source": [
        "tokenizer.word_index['yes']"
      ]
    },
    {
      "cell_type": "code",
      "execution_count": null,
      "metadata": {
        "colab": {
          "base_uri": "https://localhost:8080/"
        },
        "id": "0-KgnbqCfEqo",
        "outputId": "2482a8cb-fdd7-4ac2-8495-de0c00088c19"
      },
      "outputs": [
        {
          "output_type": "execute_result",
          "data": {
            "text/plain": [
              "27"
            ]
          },
          "metadata": {},
          "execution_count": 38
        }
      ],
      "source": [
        "tokenizer.word_index['no']"
      ]
    },
    {
      "cell_type": "markdown",
      "metadata": {
        "id": "q2PBKj9RfEqo"
      },
      "source": [
        "# **Creating the Model**\n",
        "## Building the Neural Network\n",
        "\n",
        "\n",
        "*   Input Encoder M\n",
        "*   Input Encoder C\n",
        "*   Question Encoder\n",
        "\n",
        "\n",
        "\n",
        "\n",
        "\n"
      ]
    },
    {
      "cell_type": "code",
      "execution_count": null,
      "metadata": {
        "collapsed": true,
        "id": "YUUcOmLjfEqp"
      },
      "outputs": [],
      "source": [
        "from keras.models import Sequential, Model\n",
        "from keras.layers.embeddings import Embedding\n",
        "from keras.layers import Input, Activation, Dense, Permute, Dropout\n",
        "from keras.layers import add, dot, concatenate\n",
        "from keras.layers import LSTM"
      ]
    },
    {
      "cell_type": "markdown",
      "metadata": {
        "id": "8JUCvKQcfEqp"
      },
      "source": [
        "### Placeholders for Inputs\n",
        "We have two inputs, stories and questions. So we need to use placeholders. `Input()` is used to instantiate a Keras tensor.\n"
      ]
    },
    {
      "cell_type": "code",
      "execution_count": null,
      "metadata": {
        "collapsed": true,
        "id": "Vam-6QvQfEqp"
      },
      "outputs": [],
      "source": [
        "input_sequence = Input((max_story_len,))\n",
        "question = Input((max_question_len,))"
      ]
    },
    {
      "cell_type": "markdown",
      "metadata": {
        "id": "-2UyHdrZfEqp"
      },
      "source": [
        "## Encoders\n",
        "\n",
        "### Input Encoder m\n",
        "This encoder will output:\n",
        "(samples, story_maxlen, embedding_dim)\n",
        "\n",
        "The Drop-off layer turns off a percentage of randomly selected Neurons to avoid overfitting"
      ]
    },
    {
      "cell_type": "code",
      "execution_count": null,
      "metadata": {
        "collapsed": true,
        "id": "K7OzLsyCfEqr"
      },
      "outputs": [],
      "source": [
        "# Input gets embedded to a sequence of vectors\n",
        "input_encoder_m = Sequential()\n",
        "input_encoder_m.add(Embedding(input_dim=vocab_size,output_dim=64))\n",
        "input_encoder_m.add(Dropout(0.3))"
      ]
    },
    {
      "cell_type": "markdown",
      "metadata": {
        "id": "3Y7nnqPNfEqs"
      },
      "source": [
        "### Input Encoder c"
      ]
    },
    {
      "cell_type": "code",
      "execution_count": null,
      "metadata": {
        "collapsed": true,
        "id": "wJS7AZfNfEqs"
      },
      "outputs": [],
      "source": [
        "# embed the input into a sequence of vectors of size query_maxlen\n",
        "input_encoder_c = Sequential()\n",
        "input_encoder_c.add(Embedding(input_dim=vocab_size,output_dim=max_question_len))\n",
        "input_encoder_c.add(Dropout(0.3))\n",
        "# output: (samples, story_maxlen, query_maxlen)"
      ]
    },
    {
      "cell_type": "markdown",
      "metadata": {
        "id": "vGRNFJBdfEqs"
      },
      "source": [
        "### Question Encoder\n",
        "\n",
        "To embed the question into a sequence of vectors"
      ]
    },
    {
      "cell_type": "code",
      "execution_count": null,
      "metadata": {
        "collapsed": true,
        "id": "IZSIhJBffEqs"
      },
      "outputs": [],
      "source": [
        "question_encoder = Sequential()\n",
        "question_encoder.add(Embedding(input_dim=vocab_size,\n",
        "                               output_dim=64,\n",
        "                               input_length=max_question_len))\n",
        "question_encoder.add(Dropout(0.3))\n",
        "# output: (samples, query_maxlen, embedding_dim)"
      ]
    },
    {
      "cell_type": "markdown",
      "metadata": {
        "id": "OWsqmYrzfEqs"
      },
      "source": [
        "### Encode the Sequences\n",
        "\n",
        "Encoded ----> Encoder(Input)\n",
        "\n",
        "\n",
        "Basically encodes input sequence and questions (which are indices) to sequences of dense vectors"
      ]
    },
    {
      "cell_type": "code",
      "execution_count": null,
      "metadata": {
        "collapsed": true,
        "id": "DQTWEwPKfEqt"
      },
      "outputs": [],
      "source": [
        "input_encoded_m = input_encoder_m(input_sequence)\n",
        "input_encoded_c = input_encoder_c(input_sequence)\n",
        "question_encoded = question_encoder(question)"
      ]
    },
    {
      "cell_type": "markdown",
      "metadata": {
        "id": "3ALrPXe7fEqt"
      },
      "source": [
        "##### Use dot product to compute the match between first input vector seq and the query"
      ]
    },
    {
      "cell_type": "code",
      "execution_count": null,
      "metadata": {
        "collapsed": true,
        "id": "zz5OQj50fEqt"
      },
      "outputs": [],
      "source": [
        "# shape: `(samples, story_maxlen, query_maxlen)`\n",
        "match = dot([input_encoded_m, question_encoded], axes=(2, 2))\n",
        "match = Activation('softmax')(match)"
      ]
    },
    {
      "cell_type": "markdown",
      "metadata": {
        "id": "KhyNEBpFfEqt"
      },
      "source": [
        "#### Add this match matrix with the second input vector sequence"
      ]
    },
    {
      "cell_type": "code",
      "execution_count": null,
      "metadata": {
        "collapsed": true,
        "id": "Ly9XqxuYfEqt"
      },
      "outputs": [],
      "source": [
        "# add the match matrix with the second input vector sequence\n",
        "response = add([match, input_encoded_c])  # (samples, story_maxlen, query_maxlen)\n",
        "response = Permute((2, 1))(response)  # (samples, query_maxlen, story_maxlen)"
      ]
    },
    {
      "cell_type": "markdown",
      "metadata": {
        "id": "z6fD40VpfEqt"
      },
      "source": [
        "#### Concatenate"
      ]
    },
    {
      "cell_type": "code",
      "execution_count": null,
      "metadata": {
        "collapsed": true,
        "id": "QhDYsKm3fEqu"
      },
      "outputs": [],
      "source": [
        "# concatenate the match matrix with the question vector sequence\n",
        "answer = concatenate([response, question_encoded])"
      ]
    },
    {
      "cell_type": "code",
      "execution_count": null,
      "metadata": {
        "colab": {
          "base_uri": "https://localhost:8080/"
        },
        "id": "Y2GPprqyfEqu",
        "outputId": "ed6fe037-b3e1-451e-e3cc-c8951c664aff"
      },
      "outputs": [
        {
          "output_type": "execute_result",
          "data": {
            "text/plain": [
              "<KerasTensor: shape=(None, 6, 220) dtype=float32 (created by layer 'concatenate')>"
            ]
          },
          "metadata": {},
          "execution_count": 49
        }
      ],
      "source": [
        "answer"
      ]
    },
    {
      "cell_type": "code",
      "execution_count": null,
      "metadata": {
        "collapsed": true,
        "id": "wILmFZZXfEqu"
      },
      "outputs": [],
      "source": [
        "# Reduce with RNN (LSTM)\n",
        "answer = LSTM(32)(answer)  # (samples, 32)"
      ]
    },
    {
      "cell_type": "code",
      "execution_count": null,
      "metadata": {
        "collapsed": true,
        "id": "Y2IyWec_fEqu"
      },
      "outputs": [],
      "source": [
        "# Regularization with Dropout\n",
        "answer = Dropout(0.5)(answer)\n",
        "answer = Dense(vocab_size)(answer)  # (samples, vocab_size)"
      ]
    },
    {
      "cell_type": "code",
      "execution_count": null,
      "metadata": {
        "collapsed": true,
        "id": "MWqYz9o2fEqu"
      },
      "outputs": [],
      "source": [
        "# we output a probability distribution over the vocabulary\n",
        "answer = Activation('softmax')(answer)\n",
        "\n",
        "# build the final model\n",
        "model = Model([input_sequence, question], answer)\n",
        "model.compile(optimizer='rmsprop', loss='categorical_crossentropy',\n",
        "              metrics=['accuracy'])"
      ]
    },
    {
      "cell_type": "code",
      "execution_count": null,
      "metadata": {
        "colab": {
          "base_uri": "https://localhost:8080/"
        },
        "id": "oe6pg3VVfEqu",
        "outputId": "2343524d-5c6e-4538-f160-ac317da95b71"
      },
      "outputs": [
        {
          "output_type": "stream",
          "name": "stdout",
          "text": [
            "Model: \"model\"\n",
            "__________________________________________________________________________________________________\n",
            " Layer (type)                   Output Shape         Param #     Connected to                     \n",
            "==================================================================================================\n",
            " input_1 (InputLayer)           [(None, 156)]        0           []                               \n",
            "                                                                                                  \n",
            " input_2 (InputLayer)           [(None, 6)]          0           []                               \n",
            "                                                                                                  \n",
            " sequential (Sequential)        (None, None, 64)     2432        ['input_1[0][0]']                \n",
            "                                                                                                  \n",
            " sequential_2 (Sequential)      (None, 6, 64)        2432        ['input_2[0][0]']                \n",
            "                                                                                                  \n",
            " dot (Dot)                      (None, 156, 6)       0           ['sequential[0][0]',             \n",
            "                                                                  'sequential_2[0][0]']           \n",
            "                                                                                                  \n",
            " activation (Activation)        (None, 156, 6)       0           ['dot[0][0]']                    \n",
            "                                                                                                  \n",
            " sequential_1 (Sequential)      (None, None, 6)      228         ['input_1[0][0]']                \n",
            "                                                                                                  \n",
            " add (Add)                      (None, 156, 6)       0           ['activation[0][0]',             \n",
            "                                                                  'sequential_1[0][0]']           \n",
            "                                                                                                  \n",
            " permute (Permute)              (None, 6, 156)       0           ['add[0][0]']                    \n",
            "                                                                                                  \n",
            " concatenate (Concatenate)      (None, 6, 220)       0           ['permute[0][0]',                \n",
            "                                                                  'sequential_2[0][0]']           \n",
            "                                                                                                  \n",
            " lstm (LSTM)                    (None, 32)           32384       ['concatenate[0][0]']            \n",
            "                                                                                                  \n",
            " dropout_3 (Dropout)            (None, 32)           0           ['lstm[0][0]']                   \n",
            "                                                                                                  \n",
            " dense (Dense)                  (None, 38)           1254        ['dropout_3[0][0]']              \n",
            "                                                                                                  \n",
            " activation_1 (Activation)      (None, 38)           0           ['dense[0][0]']                  \n",
            "                                                                                                  \n",
            "==================================================================================================\n",
            "Total params: 38,730\n",
            "Trainable params: 38,730\n",
            "Non-trainable params: 0\n",
            "__________________________________________________________________________________________________\n"
          ]
        }
      ],
      "source": [
        "model.summary()"
      ]
    },
    {
      "cell_type": "code",
      "execution_count": null,
      "metadata": {
        "colab": {
          "base_uri": "https://localhost:8080/"
        },
        "id": "6L-ejODTfEqv",
        "outputId": "94f6c6f5-cb70-47f9-9a0d-bf4c6b7ba78b"
      },
      "outputs": [
        {
          "output_type": "stream",
          "name": "stdout",
          "text": [
            "Epoch 1/120\n",
            "313/313 [==============================] - 8s 16ms/step - loss: 0.8916 - accuracy: 0.5020 - val_loss: 0.6960 - val_accuracy: 0.4970\n",
            "Epoch 2/120\n",
            "313/313 [==============================] - 4s 14ms/step - loss: 0.7021 - accuracy: 0.4944 - val_loss: 0.6943 - val_accuracy: 0.4970\n",
            "Epoch 3/120\n",
            "313/313 [==============================] - 4s 14ms/step - loss: 0.6957 - accuracy: 0.4994 - val_loss: 0.6933 - val_accuracy: 0.5030\n",
            "Epoch 4/120\n",
            "313/313 [==============================] - 4s 14ms/step - loss: 0.6943 - accuracy: 0.5055 - val_loss: 0.6964 - val_accuracy: 0.5030\n",
            "Epoch 5/120\n",
            "313/313 [==============================] - 4s 14ms/step - loss: 0.6949 - accuracy: 0.4948 - val_loss: 0.6943 - val_accuracy: 0.4970\n",
            "Epoch 6/120\n",
            "313/313 [==============================] - 4s 14ms/step - loss: 0.6944 - accuracy: 0.5023 - val_loss: 0.6933 - val_accuracy: 0.4880\n",
            "Epoch 7/120\n",
            "313/313 [==============================] - 4s 14ms/step - loss: 0.6942 - accuracy: 0.5058 - val_loss: 0.6936 - val_accuracy: 0.5030\n",
            "Epoch 8/120\n",
            "313/313 [==============================] - 4s 14ms/step - loss: 0.6935 - accuracy: 0.5078 - val_loss: 0.6932 - val_accuracy: 0.4800\n",
            "Epoch 9/120\n",
            "313/313 [==============================] - 4s 14ms/step - loss: 0.6942 - accuracy: 0.5012 - val_loss: 0.6934 - val_accuracy: 0.4970\n",
            "Epoch 10/120\n",
            "313/313 [==============================] - 4s 14ms/step - loss: 0.6944 - accuracy: 0.4972 - val_loss: 0.6965 - val_accuracy: 0.4970\n",
            "Epoch 11/120\n",
            "313/313 [==============================] - 4s 14ms/step - loss: 0.6939 - accuracy: 0.5058 - val_loss: 0.6939 - val_accuracy: 0.4770\n",
            "Epoch 12/120\n",
            "313/313 [==============================] - 4s 14ms/step - loss: 0.6934 - accuracy: 0.5088 - val_loss: 0.6950 - val_accuracy: 0.4980\n",
            "Epoch 13/120\n",
            "313/313 [==============================] - 4s 14ms/step - loss: 0.6930 - accuracy: 0.5101 - val_loss: 0.6957 - val_accuracy: 0.4770\n",
            "Epoch 14/120\n",
            "313/313 [==============================] - 4s 14ms/step - loss: 0.6920 - accuracy: 0.5281 - val_loss: 0.6967 - val_accuracy: 0.5040\n",
            "Epoch 15/120\n",
            "313/313 [==============================] - 4s 14ms/step - loss: 0.6908 - accuracy: 0.5274 - val_loss: 0.6953 - val_accuracy: 0.4780\n",
            "Epoch 16/120\n",
            "313/313 [==============================] - 4s 14ms/step - loss: 0.6831 - accuracy: 0.5560 - val_loss: 0.6947 - val_accuracy: 0.5410\n",
            "Epoch 17/120\n",
            "313/313 [==============================] - 4s 14ms/step - loss: 0.6672 - accuracy: 0.5913 - val_loss: 0.6612 - val_accuracy: 0.6130\n",
            "Epoch 18/120\n",
            "313/313 [==============================] - 4s 14ms/step - loss: 0.6444 - accuracy: 0.6303 - val_loss: 0.6301 - val_accuracy: 0.6580\n",
            "Epoch 19/120\n",
            "313/313 [==============================] - 4s 14ms/step - loss: 0.6289 - accuracy: 0.6521 - val_loss: 0.6203 - val_accuracy: 0.6570\n",
            "Epoch 20/120\n",
            "313/313 [==============================] - 4s 13ms/step - loss: 0.6180 - accuracy: 0.6677 - val_loss: 0.6177 - val_accuracy: 0.6740\n",
            "Epoch 21/120\n",
            "313/313 [==============================] - 4s 13ms/step - loss: 0.6163 - accuracy: 0.6670 - val_loss: 0.6125 - val_accuracy: 0.6610\n",
            "Epoch 22/120\n",
            "313/313 [==============================] - 4s 13ms/step - loss: 0.6103 - accuracy: 0.6781 - val_loss: 0.6062 - val_accuracy: 0.6740\n",
            "Epoch 23/120\n",
            "313/313 [==============================] - 4s 13ms/step - loss: 0.6045 - accuracy: 0.6846 - val_loss: 0.6009 - val_accuracy: 0.6740\n",
            "Epoch 24/120\n",
            "313/313 [==============================] - 4s 13ms/step - loss: 0.6004 - accuracy: 0.6863 - val_loss: 0.6076 - val_accuracy: 0.6650\n",
            "Epoch 25/120\n",
            "313/313 [==============================] - 4s 13ms/step - loss: 0.5909 - accuracy: 0.6930 - val_loss: 0.5976 - val_accuracy: 0.6770\n",
            "Epoch 26/120\n",
            "313/313 [==============================] - 4s 13ms/step - loss: 0.5855 - accuracy: 0.6999 - val_loss: 0.5871 - val_accuracy: 0.6840\n",
            "Epoch 27/120\n",
            "313/313 [==============================] - 4s 14ms/step - loss: 0.5755 - accuracy: 0.7026 - val_loss: 0.5859 - val_accuracy: 0.6850\n",
            "Epoch 28/120\n",
            "313/313 [==============================] - 4s 13ms/step - loss: 0.5711 - accuracy: 0.7119 - val_loss: 0.5713 - val_accuracy: 0.6960\n",
            "Epoch 29/120\n",
            "313/313 [==============================] - 4s 13ms/step - loss: 0.5598 - accuracy: 0.7182 - val_loss: 0.5603 - val_accuracy: 0.7080\n",
            "Epoch 30/120\n",
            "313/313 [==============================] - 4s 13ms/step - loss: 0.5486 - accuracy: 0.7259 - val_loss: 0.5650 - val_accuracy: 0.7100\n",
            "Epoch 31/120\n",
            "313/313 [==============================] - 4s 14ms/step - loss: 0.5324 - accuracy: 0.7344 - val_loss: 0.5496 - val_accuracy: 0.7160\n",
            "Epoch 32/120\n",
            "313/313 [==============================] - 4s 13ms/step - loss: 0.5226 - accuracy: 0.7433 - val_loss: 0.5310 - val_accuracy: 0.7420\n",
            "Epoch 33/120\n",
            "313/313 [==============================] - 4s 14ms/step - loss: 0.5027 - accuracy: 0.7609 - val_loss: 0.5078 - val_accuracy: 0.7510\n",
            "Epoch 34/120\n",
            "313/313 [==============================] - 4s 14ms/step - loss: 0.4944 - accuracy: 0.7663 - val_loss: 0.4931 - val_accuracy: 0.7640\n",
            "Epoch 35/120\n",
            "313/313 [==============================] - 4s 14ms/step - loss: 0.4812 - accuracy: 0.7792 - val_loss: 0.4862 - val_accuracy: 0.7740\n",
            "Epoch 36/120\n",
            "313/313 [==============================] - 4s 14ms/step - loss: 0.4705 - accuracy: 0.7847 - val_loss: 0.4957 - val_accuracy: 0.7750\n",
            "Epoch 37/120\n",
            "313/313 [==============================] - 4s 14ms/step - loss: 0.4629 - accuracy: 0.7900 - val_loss: 0.5002 - val_accuracy: 0.7630\n",
            "Epoch 38/120\n",
            "313/313 [==============================] - 4s 14ms/step - loss: 0.4520 - accuracy: 0.7973 - val_loss: 0.4933 - val_accuracy: 0.7790\n",
            "Epoch 39/120\n",
            "313/313 [==============================] - 4s 14ms/step - loss: 0.4431 - accuracy: 0.8068 - val_loss: 0.4504 - val_accuracy: 0.8000\n",
            "Epoch 40/120\n",
            "313/313 [==============================] - 4s 13ms/step - loss: 0.4289 - accuracy: 0.8122 - val_loss: 0.4573 - val_accuracy: 0.8000\n",
            "Epoch 41/120\n",
            "313/313 [==============================] - 4s 13ms/step - loss: 0.4231 - accuracy: 0.8152 - val_loss: 0.4422 - val_accuracy: 0.7970\n",
            "Epoch 42/120\n",
            "313/313 [==============================] - 4s 13ms/step - loss: 0.4170 - accuracy: 0.8163 - val_loss: 0.4286 - val_accuracy: 0.8220\n",
            "Epoch 43/120\n",
            "313/313 [==============================] - 4s 13ms/step - loss: 0.4048 - accuracy: 0.8229 - val_loss: 0.4263 - val_accuracy: 0.8070\n",
            "Epoch 44/120\n",
            "313/313 [==============================] - 4s 13ms/step - loss: 0.4025 - accuracy: 0.8262 - val_loss: 0.4048 - val_accuracy: 0.8310\n",
            "Epoch 45/120\n",
            "313/313 [==============================] - 4s 13ms/step - loss: 0.3991 - accuracy: 0.8306 - val_loss: 0.4162 - val_accuracy: 0.8130\n",
            "Epoch 46/120\n",
            "313/313 [==============================] - 4s 14ms/step - loss: 0.3786 - accuracy: 0.8385 - val_loss: 0.4266 - val_accuracy: 0.8040\n",
            "Epoch 47/120\n",
            "313/313 [==============================] - 4s 13ms/step - loss: 0.3925 - accuracy: 0.8322 - val_loss: 0.4065 - val_accuracy: 0.8220\n",
            "Epoch 48/120\n",
            "313/313 [==============================] - 4s 14ms/step - loss: 0.3767 - accuracy: 0.8372 - val_loss: 0.4154 - val_accuracy: 0.8130\n",
            "Epoch 49/120\n",
            "313/313 [==============================] - 4s 13ms/step - loss: 0.3759 - accuracy: 0.8384 - val_loss: 0.4077 - val_accuracy: 0.8140\n",
            "Epoch 50/120\n",
            "313/313 [==============================] - 4s 13ms/step - loss: 0.3679 - accuracy: 0.8421 - val_loss: 0.3959 - val_accuracy: 0.8310\n",
            "Epoch 51/120\n",
            "313/313 [==============================] - 4s 13ms/step - loss: 0.3660 - accuracy: 0.8435 - val_loss: 0.3907 - val_accuracy: 0.8280\n",
            "Epoch 52/120\n",
            "313/313 [==============================] - 4s 13ms/step - loss: 0.3644 - accuracy: 0.8469 - val_loss: 0.3912 - val_accuracy: 0.8380\n",
            "Epoch 53/120\n",
            "313/313 [==============================] - 4s 13ms/step - loss: 0.3531 - accuracy: 0.8515 - val_loss: 0.4239 - val_accuracy: 0.8180\n",
            "Epoch 54/120\n",
            "313/313 [==============================] - 4s 13ms/step - loss: 0.3553 - accuracy: 0.8498 - val_loss: 0.3933 - val_accuracy: 0.8370\n",
            "Epoch 55/120\n",
            "313/313 [==============================] - 4s 13ms/step - loss: 0.3519 - accuracy: 0.8498 - val_loss: 0.3877 - val_accuracy: 0.8310\n",
            "Epoch 56/120\n",
            "313/313 [==============================] - 4s 14ms/step - loss: 0.3505 - accuracy: 0.8523 - val_loss: 0.3936 - val_accuracy: 0.8260\n",
            "Epoch 57/120\n",
            "313/313 [==============================] - 4s 14ms/step - loss: 0.3485 - accuracy: 0.8558 - val_loss: 0.3861 - val_accuracy: 0.8290\n",
            "Epoch 58/120\n",
            "313/313 [==============================] - 4s 14ms/step - loss: 0.3440 - accuracy: 0.8525 - val_loss: 0.3813 - val_accuracy: 0.8280\n",
            "Epoch 59/120\n",
            "313/313 [==============================] - 4s 14ms/step - loss: 0.3423 - accuracy: 0.8553 - val_loss: 0.3983 - val_accuracy: 0.8410\n",
            "Epoch 60/120\n",
            "313/313 [==============================] - 4s 13ms/step - loss: 0.3424 - accuracy: 0.8538 - val_loss: 0.3900 - val_accuracy: 0.8220\n",
            "Epoch 61/120\n",
            "313/313 [==============================] - 4s 14ms/step - loss: 0.3277 - accuracy: 0.8605 - val_loss: 0.4027 - val_accuracy: 0.8240\n",
            "Epoch 62/120\n",
            "313/313 [==============================] - 4s 13ms/step - loss: 0.3301 - accuracy: 0.8610 - val_loss: 0.4037 - val_accuracy: 0.8350\n",
            "Epoch 63/120\n",
            "313/313 [==============================] - 4s 13ms/step - loss: 0.3287 - accuracy: 0.8623 - val_loss: 0.4031 - val_accuracy: 0.8110\n",
            "Epoch 64/120\n",
            "313/313 [==============================] - 4s 13ms/step - loss: 0.3290 - accuracy: 0.8601 - val_loss: 0.4186 - val_accuracy: 0.8260\n",
            "Epoch 65/120\n",
            "313/313 [==============================] - 4s 13ms/step - loss: 0.3252 - accuracy: 0.8612 - val_loss: 0.4232 - val_accuracy: 0.8180\n",
            "Epoch 66/120\n",
            "313/313 [==============================] - 4s 13ms/step - loss: 0.3207 - accuracy: 0.8627 - val_loss: 0.4649 - val_accuracy: 0.8000\n",
            "Epoch 67/120\n",
            "313/313 [==============================] - 4s 14ms/step - loss: 0.3196 - accuracy: 0.8675 - val_loss: 0.4157 - val_accuracy: 0.8250\n",
            "Epoch 68/120\n",
            "313/313 [==============================] - 4s 13ms/step - loss: 0.3141 - accuracy: 0.8683 - val_loss: 0.4197 - val_accuracy: 0.8260\n",
            "Epoch 69/120\n",
            "313/313 [==============================] - 4s 13ms/step - loss: 0.3144 - accuracy: 0.8701 - val_loss: 0.3940 - val_accuracy: 0.8330\n",
            "Epoch 70/120\n",
            "313/313 [==============================] - 4s 14ms/step - loss: 0.3129 - accuracy: 0.8671 - val_loss: 0.4275 - val_accuracy: 0.8240\n",
            "Epoch 71/120\n",
            "313/313 [==============================] - 4s 14ms/step - loss: 0.3111 - accuracy: 0.8738 - val_loss: 0.4307 - val_accuracy: 0.8120\n",
            "Epoch 72/120\n",
            "313/313 [==============================] - 4s 14ms/step - loss: 0.3070 - accuracy: 0.8690 - val_loss: 0.4223 - val_accuracy: 0.8170\n",
            "Epoch 73/120\n",
            "313/313 [==============================] - 4s 13ms/step - loss: 0.3044 - accuracy: 0.8749 - val_loss: 0.4249 - val_accuracy: 0.8210\n",
            "Epoch 74/120\n",
            "313/313 [==============================] - 4s 13ms/step - loss: 0.3096 - accuracy: 0.8717 - val_loss: 0.4238 - val_accuracy: 0.8200\n",
            "Epoch 75/120\n",
            "313/313 [==============================] - 4s 13ms/step - loss: 0.3046 - accuracy: 0.8702 - val_loss: 0.4404 - val_accuracy: 0.8190\n",
            "Epoch 76/120\n",
            "313/313 [==============================] - 4s 13ms/step - loss: 0.3002 - accuracy: 0.8749 - val_loss: 0.4263 - val_accuracy: 0.8220\n",
            "Epoch 77/120\n",
            "313/313 [==============================] - 4s 14ms/step - loss: 0.2937 - accuracy: 0.8792 - val_loss: 0.4558 - val_accuracy: 0.8160\n",
            "Epoch 78/120\n",
            "313/313 [==============================] - 4s 14ms/step - loss: 0.2979 - accuracy: 0.8764 - val_loss: 0.4312 - val_accuracy: 0.8200\n",
            "Epoch 79/120\n",
            "313/313 [==============================] - 4s 13ms/step - loss: 0.2995 - accuracy: 0.8789 - val_loss: 0.4244 - val_accuracy: 0.8190\n",
            "Epoch 80/120\n",
            "313/313 [==============================] - 4s 13ms/step - loss: 0.2898 - accuracy: 0.8801 - val_loss: 0.4417 - val_accuracy: 0.8300\n",
            "Epoch 81/120\n",
            "313/313 [==============================] - 4s 13ms/step - loss: 0.2931 - accuracy: 0.8764 - val_loss: 0.4303 - val_accuracy: 0.8270\n",
            "Epoch 82/120\n",
            "313/313 [==============================] - 4s 14ms/step - loss: 0.2916 - accuracy: 0.8792 - val_loss: 0.4214 - val_accuracy: 0.8240\n",
            "Epoch 83/120\n",
            "313/313 [==============================] - 4s 13ms/step - loss: 0.2895 - accuracy: 0.8794 - val_loss: 0.4399 - val_accuracy: 0.8260\n",
            "Epoch 84/120\n",
            "313/313 [==============================] - 4s 13ms/step - loss: 0.2913 - accuracy: 0.8809 - val_loss: 0.4271 - val_accuracy: 0.8270\n",
            "Epoch 85/120\n",
            "313/313 [==============================] - 4s 13ms/step - loss: 0.2890 - accuracy: 0.8810 - val_loss: 0.4241 - val_accuracy: 0.8230\n",
            "Epoch 86/120\n",
            "313/313 [==============================] - 4s 13ms/step - loss: 0.2837 - accuracy: 0.8848 - val_loss: 0.4556 - val_accuracy: 0.8190\n",
            "Epoch 87/120\n",
            "313/313 [==============================] - 4s 14ms/step - loss: 0.2837 - accuracy: 0.8832 - val_loss: 0.4708 - val_accuracy: 0.8180\n",
            "Epoch 88/120\n",
            "313/313 [==============================] - 4s 14ms/step - loss: 0.2731 - accuracy: 0.8905 - val_loss: 0.4454 - val_accuracy: 0.8260\n",
            "Epoch 89/120\n",
            "313/313 [==============================] - 4s 14ms/step - loss: 0.2732 - accuracy: 0.8848 - val_loss: 0.4409 - val_accuracy: 0.8280\n",
            "Epoch 90/120\n",
            "313/313 [==============================] - 4s 13ms/step - loss: 0.2734 - accuracy: 0.8848 - val_loss: 0.4556 - val_accuracy: 0.8220\n",
            "Epoch 91/120\n",
            "313/313 [==============================] - 4s 14ms/step - loss: 0.2851 - accuracy: 0.8820 - val_loss: 0.4461 - val_accuracy: 0.8150\n",
            "Epoch 92/120\n",
            "313/313 [==============================] - 4s 14ms/step - loss: 0.2731 - accuracy: 0.8848 - val_loss: 0.4562 - val_accuracy: 0.8130\n",
            "Epoch 93/120\n",
            "313/313 [==============================] - 4s 13ms/step - loss: 0.2740 - accuracy: 0.8854 - val_loss: 0.4896 - val_accuracy: 0.8190\n",
            "Epoch 94/120\n",
            "313/313 [==============================] - 4s 13ms/step - loss: 0.2747 - accuracy: 0.8884 - val_loss: 0.4798 - val_accuracy: 0.8060\n",
            "Epoch 95/120\n",
            "313/313 [==============================] - 4s 14ms/step - loss: 0.2691 - accuracy: 0.8899 - val_loss: 0.4499 - val_accuracy: 0.8190\n",
            "Epoch 96/120\n",
            "313/313 [==============================] - 4s 14ms/step - loss: 0.2729 - accuracy: 0.8895 - val_loss: 0.5178 - val_accuracy: 0.8080\n",
            "Epoch 97/120\n",
            "313/313 [==============================] - 4s 14ms/step - loss: 0.2626 - accuracy: 0.8946 - val_loss: 0.4686 - val_accuracy: 0.8130\n",
            "Epoch 98/120\n",
            "313/313 [==============================] - 4s 14ms/step - loss: 0.2667 - accuracy: 0.8902 - val_loss: 0.4635 - val_accuracy: 0.8240\n",
            "Epoch 99/120\n",
            "313/313 [==============================] - 4s 14ms/step - loss: 0.2642 - accuracy: 0.8888 - val_loss: 0.4717 - val_accuracy: 0.8260\n",
            "Epoch 100/120\n",
            "313/313 [==============================] - 4s 13ms/step - loss: 0.2629 - accuracy: 0.8921 - val_loss: 0.4724 - val_accuracy: 0.8290\n",
            "Epoch 101/120\n",
            "313/313 [==============================] - 4s 14ms/step - loss: 0.2647 - accuracy: 0.8919 - val_loss: 0.4651 - val_accuracy: 0.8190\n",
            "Epoch 102/120\n",
            "313/313 [==============================] - 4s 14ms/step - loss: 0.2537 - accuracy: 0.8966 - val_loss: 0.4971 - val_accuracy: 0.8180\n",
            "Epoch 103/120\n",
            "313/313 [==============================] - 4s 13ms/step - loss: 0.2565 - accuracy: 0.8932 - val_loss: 0.4784 - val_accuracy: 0.8180\n",
            "Epoch 104/120\n",
            "313/313 [==============================] - 4s 14ms/step - loss: 0.2543 - accuracy: 0.8966 - val_loss: 0.4818 - val_accuracy: 0.8110\n",
            "Epoch 105/120\n",
            "313/313 [==============================] - 4s 14ms/step - loss: 0.2503 - accuracy: 0.8979 - val_loss: 0.4996 - val_accuracy: 0.8110\n",
            "Epoch 106/120\n",
            "313/313 [==============================] - 4s 13ms/step - loss: 0.2555 - accuracy: 0.9000 - val_loss: 0.5243 - val_accuracy: 0.8110\n",
            "Epoch 107/120\n",
            "313/313 [==============================] - 4s 13ms/step - loss: 0.2467 - accuracy: 0.8987 - val_loss: 0.5021 - val_accuracy: 0.8230\n",
            "Epoch 108/120\n",
            "313/313 [==============================] - 4s 14ms/step - loss: 0.2571 - accuracy: 0.8962 - val_loss: 0.5159 - val_accuracy: 0.8080\n",
            "Epoch 109/120\n",
            "313/313 [==============================] - 4s 14ms/step - loss: 0.2519 - accuracy: 0.8996 - val_loss: 0.4902 - val_accuracy: 0.8150\n",
            "Epoch 110/120\n",
            "313/313 [==============================] - 4s 13ms/step - loss: 0.2509 - accuracy: 0.8984 - val_loss: 0.4795 - val_accuracy: 0.8200\n",
            "Epoch 111/120\n",
            "313/313 [==============================] - 4s 13ms/step - loss: 0.2505 - accuracy: 0.8996 - val_loss: 0.5097 - val_accuracy: 0.8190\n",
            "Epoch 112/120\n",
            "313/313 [==============================] - 4s 13ms/step - loss: 0.2446 - accuracy: 0.8998 - val_loss: 0.5370 - val_accuracy: 0.8080\n",
            "Epoch 113/120\n",
            "313/313 [==============================] - 4s 14ms/step - loss: 0.2519 - accuracy: 0.8992 - val_loss: 0.5175 - val_accuracy: 0.8120\n",
            "Epoch 114/120\n",
            "313/313 [==============================] - 4s 14ms/step - loss: 0.2411 - accuracy: 0.9006 - val_loss: 0.4924 - val_accuracy: 0.8260\n",
            "Epoch 115/120\n",
            "313/313 [==============================] - 4s 13ms/step - loss: 0.2410 - accuracy: 0.9027 - val_loss: 0.5185 - val_accuracy: 0.8110\n",
            "Epoch 116/120\n",
            "313/313 [==============================] - 4s 14ms/step - loss: 0.2413 - accuracy: 0.9059 - val_loss: 0.5552 - val_accuracy: 0.8190\n",
            "Epoch 117/120\n",
            "313/313 [==============================] - 4s 14ms/step - loss: 0.2404 - accuracy: 0.9029 - val_loss: 0.5235 - val_accuracy: 0.8180\n",
            "Epoch 118/120\n",
            "313/313 [==============================] - 4s 14ms/step - loss: 0.2389 - accuracy: 0.9019 - val_loss: 0.5583 - val_accuracy: 0.8140\n",
            "Epoch 119/120\n",
            "313/313 [==============================] - 4s 14ms/step - loss: 0.2329 - accuracy: 0.9074 - val_loss: 0.5083 - val_accuracy: 0.8130\n",
            "Epoch 120/120\n",
            "313/313 [==============================] - 4s 14ms/step - loss: 0.2413 - accuracy: 0.9029 - val_loss: 0.5479 - val_accuracy: 0.8080\n"
          ]
        }
      ],
      "source": [
        "# train\n",
        "history = model.fit([inputs_train, queries_train], answers_train,batch_size=32,epochs=120,validation_data=([inputs_test, queries_test], answers_test))"
      ]
    },
    {
      "cell_type": "markdown",
      "metadata": {
        "id": "mTbld8PufEqv"
      },
      "source": [
        "### Saving the Model"
      ]
    },
    {
      "cell_type": "code",
      "execution_count": null,
      "metadata": {
        "collapsed": true,
        "colab": {
          "base_uri": "https://localhost:8080/"
        },
        "id": "UwZGRe3gfEqv",
        "outputId": "a01266d8-1e30-4a84-d01f-8f4c3d31f2f2"
      },
      "outputs": [
        {
          "output_type": "stream",
          "name": "stderr",
          "text": [
            "/usr/local/lib/python3.7/dist-packages/keras/engine/functional.py:1410: CustomMaskWarning: Custom mask layers require a config and must override get_config. When loading, the custom mask layer must be passed to the custom_objects argument.\n",
            "  layer_config = serialize_layer_fn(layer)\n"
          ]
        }
      ],
      "source": [
        "filename = 'ChatBot_Model.h5'\n",
        "model.save(filename)"
      ]
    },
    {
      "cell_type": "markdown",
      "metadata": {
        "id": "z43ZXSzsfEqv"
      },
      "source": [
        "## Evaluating the Model\n",
        "\n",
        "### Training Accuracy plot"
      ]
    },
    {
      "cell_type": "code",
      "execution_count": null,
      "metadata": {
        "colab": {
          "base_uri": "https://localhost:8080/",
          "height": 312
        },
        "id": "rdXnrTuQfEqv",
        "outputId": "5f2b9996-4add-4c1a-c51f-ae0266996d16"
      },
      "outputs": [
        {
          "output_type": "stream",
          "name": "stdout",
          "text": [
            "dict_keys(['loss', 'accuracy', 'val_loss', 'val_accuracy'])\n"
          ]
        },
        {
          "output_type": "display_data",
          "data": {
            "image/png": "[encoded data removed]",
            "text/plain": [
              "<Figure size 432x288 with 1 Axes>"
            ]
          },
          "metadata": {
            "needs_background": "light"
          }
        }
      ],
      "source": [
        "import matplotlib.pyplot as plt\n",
        "%matplotlib inline\n",
        "print(history.history.keys())\n",
        "# summarize history for accuracy\n",
        "plt.plot(history.history['accuracy'])\n",
        "plt.plot(history.history['val_accuracy'])\n",
        "plt.title('model accuracy')\n",
        "plt.ylabel('accuracy')\n",
        "plt.xlabel('epoch')\n",
        "plt.legend(['train', 'test'], loc='upper left')\n",
        "plt.show()"
      ]
    },
    {
      "cell_type": "markdown",
      "metadata": {
        "id": "rJxEKQZ0fEqw"
      },
      "source": [
        "### Evaluating on Given Test Set"
      ]
    },
    {
      "cell_type": "code",
      "execution_count": null,
      "metadata": {
        "collapsed": true,
        "id": "vyPA6KoPfEqw"
      },
      "outputs": [],
      "source": [
        "model.load_weights(filename)\n",
        "pred_results = model.predict(([inputs_test, queries_test]))"
      ]
    },
    {
      "cell_type": "code",
      "execution_count": null,
      "metadata": {
        "id": "9W738nJcfEqw",
        "outputId": "89e66c81-e519-4e6e-dfe2-49a5baf40f1b"
      },
      "outputs": [
        {
          "data": {
            "text/plain": [
              "['Mary',\n",
              " 'got',\n",
              " 'the',\n",
              " 'milk',\n",
              " 'there',\n",
              " '.',\n",
              " 'John',\n",
              " 'moved',\n",
              " 'to',\n",
              " 'the',\n",
              " 'bedroom',\n",
              " '.']"
            ]
          },
          "execution_count": 74,
          "metadata": {},
          "output_type": "execute_result"
        }
      ],
      "source": [
        "test_data[0][0]"
      ]
    },
    {
      "cell_type": "code",
      "execution_count": null,
      "metadata": {
        "id": "HS0FLlgYfEqw",
        "outputId": "14542b4b-528d-479a-8c09-b4d62843b534"
      },
      "outputs": [
        {
          "name": "stdout",
          "output_type": "stream",
          "text": [
            "Mary got the milk there . John moved to the bedroom .\n"
          ]
        }
      ],
      "source": [
        "story =' '.join(word for word in test_data[0][0])\n",
        "print(story)"
      ]
    },
    {
      "cell_type": "code",
      "execution_count": null,
      "metadata": {
        "id": "_3Pvfg3ffEqw",
        "outputId": "a784a65f-fc9a-4b05-c295-1a2039776eea"
      },
      "outputs": [
        {
          "name": "stdout",
          "output_type": "stream",
          "text": [
            "Is John in the kitchen ?\n"
          ]
        }
      ],
      "source": [
        "query = ' '.join(word for word in test_data[0][1])\n",
        "print(query)"
      ]
    },
    {
      "cell_type": "code",
      "execution_count": null,
      "metadata": {
        "id": "0zwj0HwzfEqw",
        "outputId": "4cae8756-6759-4dcb-cf22-bad62eba77d1"
      },
      "outputs": [
        {
          "name": "stdout",
          "output_type": "stream",
          "text": [
            "True Test Answer from Data is: no\n"
          ]
        }
      ],
      "source": [
        "print(\"True Test Answer from Data is:\",test_data[0][2])"
      ]
    },
    {
      "cell_type": "code",
      "execution_count": null,
      "metadata": {
        "id": "rFlROEGFfEqx",
        "outputId": "2dc266a3-bc40-4698-e0f7-3a794da9e153"
      },
      "outputs": [
        {
          "name": "stdout",
          "output_type": "stream",
          "text": [
            "Predicted answer is:  no\n",
            "Probability of certainty was:  0.9999999\n"
          ]
        }
      ],
      "source": [
        "#Generate prediction from model\n",
        "val_max = np.argmax(pred_results[0])\n",
        "\n",
        "for key, val in tokenizer.word_index.items():\n",
        "    if val == val_max:\n",
        "        k = key\n",
        "\n",
        "print(\"Predicted answer is: \", k)\n",
        "print(\"Probability of certainty was: \", pred_results[0][val_max])"
      ]
    },
    {
      "cell_type": "markdown",
      "metadata": {
        "id": "bcR-VaxcfEqx"
      },
      "source": [
        "## Testing with our own Stories and Questions\n",
        "\n",
        "Picking out words from the existing vocabulary - "
      ]
    },
    {
      "cell_type": "code",
      "execution_count": null,
      "metadata": {
        "id": "L7Vf6Nv1fEqx",
        "outputId": "ddaf10e4-c4be-4ab2-feb3-2847c00744ae"
      },
      "outputs": [
        {
          "data": {
            "text/plain": [
              "{'.',\n",
              " '?',\n",
              " 'Daniel',\n",
              " 'Is',\n",
              " 'John',\n",
              " 'Mary',\n",
              " 'Sandra',\n",
              " 'apple',\n",
              " 'back',\n",
              " 'bathroom',\n",
              " 'bedroom',\n",
              " 'discarded',\n",
              " 'down',\n",
              " 'dropped',\n",
              " 'football',\n",
              " 'garden',\n",
              " 'got',\n",
              " 'grabbed',\n",
              " 'hallway',\n",
              " 'in',\n",
              " 'journeyed',\n",
              " 'kitchen',\n",
              " 'left',\n",
              " 'milk',\n",
              " 'moved',\n",
              " 'no',\n",
              " 'office',\n",
              " 'picked',\n",
              " 'put',\n",
              " 'the',\n",
              " 'there',\n",
              " 'to',\n",
              " 'took',\n",
              " 'travelled',\n",
              " 'up',\n",
              " 'went',\n",
              " 'yes'}"
            ]
          },
          "execution_count": 79,
          "metadata": {},
          "output_type": "execute_result"
        }
      ],
      "source": [
        "vocab"
      ]
    },
    {
      "cell_type": "code",
      "execution_count": null,
      "metadata": {
        "id": "cDIlXDzkfEqx",
        "outputId": "1afe2ca8-6859-415d-8336-44bc9d1772d8"
      },
      "outputs": [
        {
          "data": {
            "text/plain": [
              "['John',\n",
              " 'left',\n",
              " 'the',\n",
              " 'kitchen',\n",
              " '.',\n",
              " 'Sandra',\n",
              " 'dropped',\n",
              " 'the',\n",
              " 'football',\n",
              " 'in',\n",
              " 'the',\n",
              " 'garden',\n",
              " '.']"
            ]
          },
          "execution_count": 80,
          "metadata": {},
          "output_type": "execute_result"
        }
      ],
      "source": [
        "# Note the whitespace of the periods\n",
        "my_story = \"John left the kitchen . Sandra dropped the football in the garden .\"\n",
        "my_story.split()"
      ]
    },
    {
      "cell_type": "code",
      "execution_count": null,
      "metadata": {
        "collapsed": true,
        "id": "RMR3JLawfEqx"
      },
      "outputs": [],
      "source": [
        "my_question = \"Is the football in the garden ?\""
      ]
    },
    {
      "cell_type": "code",
      "execution_count": null,
      "metadata": {
        "id": "12rhjxELfEqy",
        "outputId": "86ad2ed9-d5e9-4cae-b51f-2d7b900163b1"
      },
      "outputs": [
        {
          "data": {
            "text/plain": [
              "['Is', 'the', 'football', 'in', 'the', 'garden', '?']"
            ]
          },
          "execution_count": 82,
          "metadata": {},
          "output_type": "execute_result"
        }
      ],
      "source": [
        "my_question.split()"
      ]
    },
    {
      "cell_type": "code",
      "execution_count": null,
      "metadata": {
        "collapsed": true,
        "id": "veOPRH9cfEqy"
      },
      "outputs": [],
      "source": [
        "mydata = [(my_story.split(),my_question.split(),'yes')]"
      ]
    },
    {
      "cell_type": "code",
      "execution_count": null,
      "metadata": {
        "collapsed": true,
        "id": "qNFuPcn7fEqy"
      },
      "outputs": [],
      "source": [
        "my_story,my_ques,my_ans = vectorize_stories(mydata)"
      ]
    },
    {
      "cell_type": "code",
      "execution_count": null,
      "metadata": {
        "collapsed": true,
        "id": "WR7NFsF6fEqy"
      },
      "outputs": [],
      "source": [
        "pred_results = model.predict(([ my_story, my_ques]))"
      ]
    },
    {
      "cell_type": "code",
      "execution_count": null,
      "metadata": {
        "id": "_TyiUQVpfEqy",
        "outputId": "629d5b83-c021-4f89-e2a3-c1d50c9ff683"
      },
      "outputs": [
        {
          "name": "stdout",
          "output_type": "stream",
          "text": [
            "Predicted answer is:  yes\n",
            "Probability of certainty was:  0.97079676\n"
          ]
        }
      ],
      "source": [
        "#Generate prediction from model\n",
        "val_max = np.argmax(pred_results[0])\n",
        "\n",
        "for key, val in tokenizer.word_index.items():\n",
        "    if val == val_max:\n",
        "        k = key\n",
        "\n",
        "print(\"Predicted answer is: \", k)\n",
        "print(\"Probability of certainty was: \", pred_results[0][val_max])"
      ]
    }
  ],
  "metadata": {
    "kernelspec": {
      "display_name": "Python 3",
      "language": "python",
      "name": "python3"
    },
    "language_info": {
      "codemirror_mode": {
        "name": "ipython",
        "version": 3
      },
      "file_extension": ".py",
      "mimetype": "text/x-python",
      "name": "python",
      "nbconvert_exporter": "python",
      "pygments_lexer": "ipython3",
      "version": "3.6.6"
    },
    "colab": {
      "name": "ChatBot_Model.ipynb",
      "provenance": []
    }
  },
  "nbformat": 4,
  "nbformat_minor": 0
}